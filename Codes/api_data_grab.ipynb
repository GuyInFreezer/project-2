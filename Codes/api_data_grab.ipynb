{
 "cells": [
  {
   "cell_type": "code",
   "execution_count": 8,
   "metadata": {},
   "outputs": [],
   "source": [
    "# Import dependencies\n",
    "import requests\n",
    "import json\n",
    "import pandas as pd\n",
    "from dotenv import load_dotenv\n",
    "import os\n",
    "import time\n",
    "\n",
    "# Load API Key\n",
    "load_dotenv()\n",
    "api_key = os.getenv(\"POLYGON_KEY\")\n",
    "\n",
    "base_url = \"https://api.polygon.io\"\n",
    "\n",
    "stockTicker = \"SPY\"\n",
    "\n",
    "start_date = \"2024-03-18\"\n",
    "end_date = \"2024-03-22\"\n",
    "\n",
    "query_url = f\"{base_url}/v3/trades/{stockTicker}?timestamp.gte={start_date}&timestamp.lte={end_date}&order=asc&sort=timestamp&apiKey={api_key}\""
   ]
  },
  {
   "cell_type": "code",
   "execution_count": 9,
   "metadata": {},
   "outputs": [
    {
     "name": "stdout",
     "output_type": "stream",
     "text": [
      "{\n",
      "    \"status\": \"NOT_AUTHORIZED\",\n",
      "    \"request_id\": \"73dfacaddb061593625a070c95bc8841\",\n",
      "    \"message\": \"You are not entitled to this data. Please upgrade your plan at https://polygon.io/pricing\"\n",
      "}\n"
     ]
    }
   ],
   "source": [
    "# Get the response\n",
    "response = requests.get(query_url)\n",
    "response\n",
    "\n",
    "# Retrieve reviews\n",
    "reviews = response.json()\n",
    "\n",
    "# Print results in JSON format\n",
    "print(json.dumps(reviews, indent=4))"
   ]
  }
 ],
 "metadata": {
  "kernelspec": {
   "display_name": "dev",
   "language": "python",
   "name": "python3"
  },
  "language_info": {
   "codemirror_mode": {
    "name": "ipython",
    "version": 3
   },
   "file_extension": ".py",
   "mimetype": "text/x-python",
   "name": "python",
   "nbconvert_exporter": "python",
   "pygments_lexer": "ipython3",
   "version": "3.10.13"
  }
 },
 "nbformat": 4,
 "nbformat_minor": 2
}
